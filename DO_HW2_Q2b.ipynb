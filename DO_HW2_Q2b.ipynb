{
  "nbformat": 4,
  "nbformat_minor": 0,
  "metadata": {
    "colab": {
      "provenance": [],
      "collapsed_sections": [],
      "authorship_tag": "ABX9TyMUO+m8xce1cVa1GjryweA+",
      "include_colab_link": true
    },
    "kernelspec": {
      "name": "python3",
      "display_name": "Python 3"
    },
    "language_info": {
      "name": "python"
    }
  },
  "cells": [
    {
      "cell_type": "markdown",
      "metadata": {
        "id": "view-in-github",
        "colab_type": "text"
      },
      "source": [
        "<a href=\"https://colab.research.google.com/github/prajwalwanjari/Design_optimization_assignments/blob/Assignment-2/DO_HW2_Q2b.ipynb\" target=\"_parent\"><img src=\"https://colab.research.google.com/assets/colab-badge.svg\" alt=\"Open In Colab\"/></a>"
      ]
    },
    {
      "cell_type": "markdown",
      "source": [
        "**Design Optimization - HW2**\n",
        "\n",
        "**Prajwal Wanjari**\n",
        "\n",
        "**1222575718**"
      ],
      "metadata": {
        "id": "A2JiGti76T0k"
      }
    },
    {
      "cell_type": "markdown",
      "source": [
        "**Q2.(b)**\n"
      ],
      "metadata": {
        "id": "HrqY7yky69h-"
      }
    },
    {
      "cell_type": "markdown",
      "source": [
        "Implement the gradient descent and Newton’s algorithm for solving the problem. Attach your codes in the report, along with a short summary of your findings. The summary should include: \n",
        "\n",
        "(1) The initial points tested; \n",
        "\n",
        "(2) corresponding solutions;\n",
        "\n",
        "\n",
        "(3) A log-linear convergence plot."
      ],
      "metadata": {
        "id": "xk0MJf7j6bVm"
      }
    },
    {
      "cell_type": "markdown",
      "source": [
        "**Solution-**"
      ],
      "metadata": {
        "id": "1QdHSW8262lk"
      }
    },
    {
      "cell_type": "code",
      "execution_count": 21,
      "metadata": {
        "id": "OcUF-Vuz4-aU"
      },
      "outputs": [],
      "source": [
        "#importing essential libraries\n",
        "import numpy as np                                                      \n",
        "import matplotlib.pyplot as plt"
      ]
    },
    {
      "cell_type": "code",
      "source": [
        "# Using Inexact line search / Armijo Line search algorithm\n",
        "\n",
        "def f_calculator(alpha,x2,x3):\n",
        "  #t can be any value between 0 & 1; t is reducing slope between approximation lines  \n",
        "  t = 0.7                                                                     \n",
        "  obj_func = objective_function(x2,x3)\n",
        "  grad = gradient(x2,x3)\n",
        "  # print gradient\n",
        "  # f(x) = 5*x2^2+10*x3^2+12*x2*x3-8*x2-14*x3+5\n",
        "  f_alpha_grad= 5*((x2-alpha*grad[0][0])**2) + 10*((x3 - alpha*grad[1][0] )**2) + 12*(x2-alpha*grad[0][0])*(x3 - alpha*grad[1][0]) - 14*(x3 - alpha*grad[1][0]) - 8*(x2-alpha*grad[0][0]) + 5\n",
        "  # phi = f(x)-t*grad^T*grad*alpha\n",
        "  phi = obj_func - t*(np.linalg.norm(grad)**2)*alpha\n",
        "  return (f_alpha_grad-phi)     \n",
        "\n",
        "def gradient(x2,x3):\n",
        "  return ([10*x2 + 12*x3 - 8],\n",
        "          [12*x2 + 20*x3 - 14])       \n",
        "\n",
        "def objective_function(x2,x3):\n",
        "  return 5*(x2**2) + 10*(x3**2) + 12*x2*x3 - 14*x3 - 8*x2 + 5     \n",
        "\n",
        "def inexact_line_search(alpha,x2,x3):\n",
        "  counter = 0                         #termination criterion/counter\n",
        "  while counter<100:\n",
        "    s = f_calculator(alpha,x2,x3)     #calling function    \n",
        "    if s>0:\n",
        "      alpha = alpha*0.5\n",
        "      counter = counter+1 \n",
        "    else:\n",
        "      # print(\"Solution not converging\")\n",
        "      break\n",
        "  return alpha\n"
      ],
      "metadata": {
        "id": "nlLlaApo5Cse"
      },
      "execution_count": 22,
      "outputs": []
    },
    {
      "cell_type": "code",
      "source": [
        "#initializing values/guesses\n",
        "x2 = 0\n",
        "x3 = 0\n",
        "to = 0.0001\n",
        "grad = gradient(x2,x3)\n",
        "grad_e = np.linalg.norm(grad)\n",
        "\n",
        "counter = 0\n",
        "c = [counter]\n",
        "error = [grad_e]\n",
        "while grad_e>to and counter<100:\n",
        "  alpha = 1                                 #\n",
        "  alpha = inexact_line_search(alpha,x2,x3)  #\n",
        "  x2 = x2 - alpha*grad[0][0]\n",
        "  x3 = x3 - alpha*grad[1][0]\n",
        "  grad = gradient(x2,x3)\n",
        "  grad_e = np.linalg.norm(grad)\n",
        "  error.append(grad_e)\n",
        "  counter = counter + 1\n",
        "  c.append(counter)\n",
        "\n",
        "print(f'Initial guess is: x1:1 , x2:0 , x3:0')\n",
        "x1 = 1-2*x2-3*x3\n",
        "print(\"The point in the plane x1+2*x2+3*x3=1 that is nearest to the point (−1, 0, 1) is: \")\n",
        "print(f'x1:{x1},x2:{x2},x3:{x3}')\n",
        "\n",
        "d = (x1+1)**2 + x2**2 + (x3-1)**2\n",
        "print(\"Minimum Distance: \",np.sqrt(d))\n",
        "\n",
        "#log-linear convergence plot\n",
        "plt.plot(c,error)\n",
        "plt.yscale(\"log\")\n",
        "plt.title(\"Convergence plot Gradient Descent Method\")\n",
        "plt.xlabel(\"Iterations\")\n",
        "plt.ylabel(\"log(error)\")"
      ],
      "metadata": {
        "colab": {
          "base_uri": "https://localhost:8080/",
          "height": 382
        },
        "id": "3H_-hoWjPg2A",
        "outputId": "94035b55-e3c7-40af-b7aa-6465b8832b5a"
      },
      "execution_count": 23,
      "outputs": [
        {
          "output_type": "stream",
          "name": "stdout",
          "text": [
            "Initial guess is: x1:1 , x2:0 , x3:0\n",
            "The point in the plane x1+2*x2+3*x3=1 that is nearest to the point (−1, 0, 1) is: \n",
            "x1:-1.0714325370678943,x2:-0.14282110558427424,x3:0.785691582745481\n",
            "Minimum Distance:  0.2672612453357342\n"
          ]
        },
        {
          "output_type": "execute_result",
          "data": {
            "text/plain": [
              "Text(0, 0.5, 'log(error)')"
            ]
          },
          "metadata": {},
          "execution_count": 23
        },
        {
          "output_type": "display_data",
          "data": {
            "text/plain": [
              "<Figure size 432x288 with 1 Axes>"
            ],
            "image/png": "[encoded data removed]"
          },
          "metadata": {
            "needs_background": "light"
          }
        }
      ]
    },
    {
      "cell_type": "code",
      "source": [
        "#using Newton's Method\n",
        "\n",
        "#initializing values/guesses\n",
        "x2 = 0\n",
        "x3 = 0\n",
        "to = 0.0001\n",
        "grad = gradient(x2,x3)\n",
        "grad_e = np.linalg.norm(grad)\n",
        "H = ([10,12],[12,20])             #Hessian matrix\n",
        "H_inv = np.linalg.inv(H)          #inverse of Hessian matrix\n",
        "\n",
        "counter = 0\n",
        "c = [counter]\n",
        "error = [grad_e]\n",
        "while grad_e>to and counter<100:\n",
        "  dx = np.matmul(H_inv,grad)      #\n",
        "  x2 = x2 - dx[0][0]\n",
        "  x3 = x3 - dx[1][0]\n",
        "  grad = gradient(x2,x3)\n",
        "  grad_e = np.linalg.norm(grad)\n",
        "  error.append(grad_e)\n",
        "  counter = counter + 1\n",
        "  c.append(counter)\n",
        "\n",
        "print(f'Initial guess is: x1:1 , x2:0 , x3:0')\n",
        "x1 = 1-2*x2-3*x3\n",
        "print(\"The point in the plane x1+2*x2+3*x3=1 that is nearest to the point (−1, 0, 1) is: \")\n",
        "print(f'x1:{x1},x2:{x2},x3:{x3}')\n",
        "\n",
        "d = (x1+1)**2 + x2**2 + (x3-1)**2\n",
        "print(\"Minimum Distance: \",np.sqrt(d))\n",
        "\n",
        "#log-linear convergence plot\n",
        "plt.plot(c,error)\n",
        "plt.yscale(\"log\")\n",
        "plt.title(\"Convergence plot Newton's Method\")\n",
        "plt.xlabel(\"Iterations\")\n",
        "plt.ylabel(\"log(error)\")"
      ],
      "metadata": {
        "colab": {
          "base_uri": "https://localhost:8080/",
          "height": 382
        },
        "id": "umZi8IQ-YrtP",
        "outputId": "2f696582-64f8-4ce4-bb93-9b2b835fba31"
      },
      "execution_count": 24,
      "outputs": [
        {
          "output_type": "stream",
          "name": "stdout",
          "text": [
            "Initial guess is: x1:1 , x2:0 , x3:0\n",
            "The point in the plane x1+2*x2+3*x3=1 that is nearest to the point (−1, 0, 1) is: \n",
            "x1:-1.071428571428572,x2:-0.1428571428571428,x3:0.7857142857142858\n",
            "Minimum Distance:  0.26726124191242445\n"
          ]
        },
        {
          "output_type": "execute_result",
          "data": {
            "text/plain": [
              "Text(0, 0.5, 'log(error)')"
            ]
          },
          "metadata": {},
          "execution_count": 24
        },
        {
          "output_type": "display_data",
          "data": {
            "text/plain": [
              "<Figure size 432x288 with 1 Axes>"
            ],
            "image/png": "[encoded data removed]"
          },
          "metadata": {
            "needs_background": "light"
          }
        }
      ]
    },
    {
      "cell_type": "markdown",
      "source": [
        "In the inexact gradient decent method, variable t is representing reducing slope between the approximation lines where t can be any value between 0 & 1. In this question, as we move towards value of t= 0.8 & 0.9; we get a more consistent convergence plot, whereas the graph overshoots it values if value of t>=1;\n",
        "\n",
        "In Newton's method, as the objective is quadratic, it only takes one step to compute convergence plot.\n"
      ],
      "metadata": {
        "id": "v1DnKhgUkefK"
      }
    },
    {
      "cell_type": "markdown",
      "source": [
        "From both methods, the initial guesses are x1:1 , x2:0 , x3:0 ;\n",
        "\n",
        "the point in the plane x1+2*x2+3*x3=1 that is nearest to the point (−1, 0, 1) is: \n",
        "x1:-1.071428571428572, x2:-0.1428571428571428, x3:0.7857142857142858\n",
        "\n",
        "and the minimum distance between both points is 0.26726124191242445."
      ],
      "metadata": {
        "id": "RpSPNG0ZqffV"
      }
    }
  ]
}