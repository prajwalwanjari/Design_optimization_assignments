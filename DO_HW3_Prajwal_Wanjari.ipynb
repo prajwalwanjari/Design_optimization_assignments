{
  "nbformat": 4,
  "nbformat_minor": 0,
  "metadata": {
    "colab": {
      "provenance": [],
      "collapsed_sections": [],
      "include_colab_link": true
    },
    "kernelspec": {
      "name": "python3",
      "display_name": "Python 3"
    },
    "language_info": {
      "name": "python"
    }
  },
  "cells": [
    {
      "cell_type": "markdown",
      "metadata": {
        "id": "view-in-github",
        "colab_type": "text"
      },
      "source": [
        "<a href=\"https://colab.research.google.com/github/prajwalwanjari/Design_optimization_assignments/blob/main/DO_HW3_Prajwal_Wanjari.ipynb\" target=\"_parent\"><img src=\"https://colab.research.google.com/assets/colab-badge.svg\" alt=\"Open In Colab\"/></a>"
      ]
    },
    {
      "cell_type": "markdown",
      "source": [
        "**Design Optimization - HW3**\n",
        "\n",
        "**Prajwal Wanjari**\n",
        "\n",
        "**1222575718**"
      ],
      "metadata": {
        "id": "bAhliyts8Awb"
      }
    },
    {
      "cell_type": "markdown",
      "source": [
        "**Google collab link - https://colab.research.google.com/drive/1QSzeh6cd1ZGihef1RoiVCigkW3RyaP7s?usp=sharing**"
      ],
      "metadata": {
        "id": "vqKiD5XgsKxR"
      }
    },
    {
      "cell_type": "markdown",
      "source": [
        "### **Q.1**\n",
        "\n",
        "Vapor-liquid equilibria data are correlated using two adjustable parameters $A_{12}$ and $A_{21}$ per binary\n",
        "mixture. For low pressures, the equilibrium relation can be formulated as:\n",
        "\n",
        "$$\n",
        "\\begin{aligned}\n",
        "p = & x_1\\exp\\left(A_{12}\\left(\\frac{A_{21}x_2}{A_{12}x_1+A_{21}x_2}\\right)^2\\right)p_{1}^{sat}\\\\\n",
        "& + x_2\\exp\\left(A_{21}\\left(\\frac{A_{12}x_1}{A_{12}x_1+A_{21}x_2}\\right)^2\\right)p_{2}^{sat}.\n",
        "\\end{aligned}\n",
        "$$\n",
        "\n",
        "where 1 and 2 represents water 1,4 dioxane respectively.\n",
        "\n",
        "Here the saturation pressures are given by the Antoine equation\n",
        "\n",
        "$$\n",
        "\\log_{10}(p^{sat}) = a_1 - \\frac{a_2}{T + a_3},\n",
        "$$\n",
        "\n",
        "where $T = 20$($^{\\circ}{\\rm C}$) and $a_{1,2,3}$ for a water - 1,4 dioxane\n",
        "system is given below.\n",
        "\n",
        "|             | $a_1$     | $a_2$      | $a_3$     |\n",
        "|:------------|:--------|:---------|:--------|\n",
        "| Water       | 8.07131 | 1730.63  | 233.426 |\n",
        "| 1,4 dioxane | 7.43155 | 1554.679 | 240.337 |\n",
        "\n",
        "\n",
        "The following table lists the measured data. Recall that in a binary system $x_1 + x_2 = 1$. $x_1 is for water.\n",
        "\n",
        "|$x_1$ | 0.0 | 0.1 | 0.2 | 0.3 | 0.4 | 0.5 | 0.6 | 0.7 | 0.8 | 0.9 | 1.0 |\n",
        "|:-----|:--------|:---------|:--------|:-----|:-----|:-----|:-----|:-----|:-----|:-----|:-----|\n",
        "|$p$| 28.1 | 34.4 | 36.7 | 36.9 | 36.8 | 36.7 | 36.5 | 35.4 | 32.9 | 27.7 | 17.5 |\n",
        "\n",
        "Estimate $A_{12}$ and $A_{21}$ using data from the above table: \n",
        "\n",
        "1. Formulate the least square problem; \n",
        "2. Since the model is nonlinear, the problem does not have an analytical solution. Therefore, solve it using the gradient descent or Newton's method implemented in HW1; \n",
        "3. Compare your optimized model with the data. Does your model fit well with the data?"
      ],
      "metadata": {
        "id": "vSp1W_zv59Q0"
      }
    },
    {
      "cell_type": "markdown",
      "source": [
        "**Solution:** "
      ],
      "metadata": {
        "id": "nowKHNik-EUE"
      }
    },
    {
      "cell_type": "markdown",
      "source": [
        "The following code plots the measured pressure data as a scatter plot."
      ],
      "metadata": {
        "id": "MyVC6s8y-Hzd"
      }
    },
    {
      "cell_type": "code",
      "source": [
        "import matplotlib.pyplot as plt\n",
        "\n",
        "# Initialize measured data storage arrays.\n",
        "x = [x*0.1 for x in range(0,11)]\n",
        "\n",
        "# pressure list\n",
        "p = [28.1, 34.4, 36.7, 36.9, 36.8, 36.7, 36.5, 35.4, 32.9, 27.7, 17.5]\n",
        "\n",
        "# Plot measured data.\n",
        "plt.scatter(x, p, color='red')\n",
        "plt.xlabel('x1')\n",
        "plt.ylabel('Pressure')\n",
        "plt.legend(['Measured Pressure'], loc=\"lower left\")\n",
        "plt.grid()\n",
        "plt.show()"
      ],
      "metadata": {
        "colab": {
          "base_uri": "https://localhost:8080/",
          "height": 280
        },
        "id": "Wp_yTw2wTTEt",
        "outputId": "c143bcea-1244-4b36-c3a0-769af5cf9747"
      },
      "execution_count": 42,
      "outputs": [
        {
          "output_type": "display_data",
          "data": {
            "text/plain": [
              "<Figure size 432x288 with 1 Axes>"
            ],
            "image/png": "[encoded data removed]"
          },
          "metadata": {
            "needs_background": "light"
          }
        }
      ]
    },
    {
      "cell_type": "markdown",
      "source": [
        "**Formulating the least square problem.**\n",
        "$$\\min_{A_{12}, A_{21}} \\sum_{i=1}^{n} (p(x^{(i)}, A_{12},A_{21})-p^{(i)})^2  \\quad \\forall i=1,2,...11$$\n",
        "\n",
        "such that  $$p(x^{(i)}, A_{12},A_{21})=x^{(i)}_1\\exp\\left(A_{12}\\left(\\frac{A_{21}x^{(i)}_2}{A_{12}x^{(i)}_1+A_{21}x^{(i)}_2}\\right)^2\\right)p_{water}^{sat} + x_2\\exp\\left(A_{21}\\left(\\frac{A_{12}x^{(i)}_1}{A_{12}x^{(i)}_1+A_{21}x^{(i)}_2}\\right)^2\\right)p_{1,4 dioxane}^{sat} $$\n",
        "and $$ x_2 = 1-x_1 $$\n",
        "\n",
        "\n",
        "To simplify, the minimization problem is formulated using a sum of squares method for the loss function. That is, each value calculated by the given model is subtracted from the measured value, squared, and summed, as follows (with $x_2 = 1 - x_1$):\n",
        "\n",
        "$$\n",
        "min_A   \\sum_{i=1}^{N=11} \\begin{pmatrix}p_i - x_{1,i}e^{A_{12}\\begin{pmatrix}\\frac{A_{21}(1 - x_{1,i})}{A_{12}x_{1,i} + A_{21}(1 - x_{1,i})}\\end{pmatrix}^2}p^{sat}_{water} - (1 - x_{1,i})e^{A_{21}\\begin{pmatrix}\\frac{A_{12}x_{1,i}}{A_{12}x_{1,i} + A_{21}(1 - x_{1,i})}\\end{pmatrix}^2}p^{sat}_{1, 4 dioxane}\\end{pmatrix}^2\n",
        "$$"
      ],
      "metadata": {
        "id": "qs8d9lRA-sme"
      }
    },
    {
      "cell_type": "code",
      "source": [
        "import torch as t\n",
        "import numpy as np\n",
        "from math import *\n",
        "import matplotlib.pyplot as plt\n",
        "from random import random\n",
        "\n",
        "# Calculate saturation pressures with given values and Antoine equation.\n",
        "a = [[8.07131, 1730.63, 233.426], [7.43155, 1554.679, 240.337]]\n",
        "T = 20\n",
        "p_sat_water = 10**(a[0][0] - a[0][1]/(T + a[0][2]))\n",
        "p_sat_dioxane = 10**(a[1][0] - a[1][1]/(T + a[1][2]))\n",
        "\n",
        "# Initialize measured data storage arrays.\n",
        "x = [x*0.1 for x in range(0,11)]\n",
        "p = [28.1, 34.4, 36.7, 36.9, 36.8, 36.7, 36.5, 35.4, 32.9, 27.7, 17.5]\n",
        "\n",
        "# Define variable A.\n",
        "A = t.autograd.Variable(t.tensor([random(), random()]), requires_grad=True)\n",
        "\n",
        "# Define loss function.\n",
        "def compute_loss(x, p, A):\n",
        "    f = t.zeros(len(p))\n",
        "    for i in range(len(p)):\n",
        "        f[i] = (p[i] - x[i]*p_sat_water*t.exp(A[0]*(A[1]*(1 - x[i])/(A[0]*x[i] + A[1]*(1 - x[i])))**2)\n",
        "                - (1 - x[i])*p_sat_dioxane*t.exp(A[1]*(A[0]*x[i]/(A[0]*x[i] + A[1]*(1 - x[i])))**2))**2\n",
        "    return t.sum(f)\n",
        "\n",
        "# Define line search algorithm.\n",
        "def line_search(x, p, A, k):\n",
        "    with t.no_grad():\n",
        "        alpha = 0.001\n",
        "        phi = compute_loss(x, p, A) - alpha*k*t.dot(A.grad, A.grad)\n",
        "        #compute untill phi<compute_loss\n",
        "        while phi < compute_loss(x, p, A - alpha*A.grad):\n",
        "            alpha = 0.5*alpha\n",
        "            phi = compute_loss(x, p, A) - alpha * k * t.dot(A.grad, A.grad)\n",
        "        return alpha\n",
        "\n",
        "# Perform gradient descent with line search.\n",
        "for j in range(200):\n",
        "    loss = compute_loss(x, p, A)\n",
        "    loss.backward()\n",
        "\n",
        "    alpha = line_search(x, p, A, 0.8)\n",
        "    # step size; alpha = 0.001\n",
        "\n",
        "    with t.no_grad():\n",
        "        A -= alpha*A.grad\n",
        "        A.grad.zero_()\n",
        "\n",
        "# Print solution and minimum loss.\n",
        "print('The minimization solution of A12 & A21 are ',A.data.numpy())\n",
        "print('The objective function is now ',loss.data.numpy())\n",
        "\n",
        "# Calculate pressure with minimization solution for A.\n",
        "soln = A.data.numpy()\n",
        "p_soln = []\n",
        "for i in range(len(x)):\n",
        "    p_soln.append([])\n",
        "    p_soln[i] = x[i] * p_sat_water * exp(\n",
        "        soln[0] * (soln[1] * (1 - x[i]) / (soln[0] * x[i] + soln[1] * (1 - x[i]))) ** 2) + \\\n",
        "                (1 - x[i]) * p_sat_dioxane * exp(\n",
        "        soln[1] * (soln[0] * x[i] / (soln[0] * x[i] + soln[1] * (1 - x[i]))) ** 2)\n",
        "\n",
        "plt.title('Vapor-Liquid Equilibria - Experimental Vs. OLS Model Fit ')\n",
        "plt.scatter(x, p, color='red')\n",
        "plt.plot(x, p_soln, color='black')\n",
        "plt.xlabel('x1')\n",
        "plt.ylabel('Pressure')\n",
        "plt.legend(['Calculated Pressure', 'Measured Pressure'])\n",
        "plt.grid()\n",
        "plt.show()\n",
        "\n",
        "print('The model fits well with the data:', np.allclose(p_soln, p, rtol=1e-1))"
      ],
      "metadata": {
        "colab": {
          "base_uri": "https://localhost:8080/",
          "height": 347
        },
        "id": "n-bASTGkBLmK",
        "outputId": "46f9786c-62c2-476d-d473-26366d623e65"
      },
      "execution_count": 43,
      "outputs": [
        {
          "output_type": "stream",
          "name": "stdout",
          "text": [
            "The minimization solution of A12 & A21 are  [1.9578316 1.6896673]\n",
            "The objective function is now  0.6702186\n"
          ]
        },
        {
          "output_type": "display_data",
          "data": {
            "text/plain": [
              "<Figure size 432x288 with 1 Axes>"
            ],
            "image/png": "[encoded data removed]"
          },
          "metadata": {
            "needs_background": "light"
          }
        },
        {
          "output_type": "stream",
          "name": "stdout",
          "text": [
            "The model fits well with the data: True\n"
          ]
        }
      ]
    },
    {
      "cell_type": "markdown",
      "source": [
        "The minimization solution for $A_{12}$ and $A_{21}$ values were determined to be 1.96 and 1.69, respectively. The plot above shows the measured pressure data (red) and the pressure calculated with this solution (black). \n",
        "\n",
        "Hence, from the inspection we can see that using OLS to evaluate the two constants is a viable method and the model fits quite well when compared to the experimatal data both in shape and magnitude."
      ],
      "metadata": {
        "id": "Z_VZ0k0IBiml"
      }
    },
    {
      "cell_type": "markdown",
      "source": [
        "### **Q2.**"
      ],
      "metadata": {
        "id": "ud1Rd43P-uuZ"
      }
    },
    {
      "cell_type": "markdown",
      "source": [
        "Solve the following problem using Bayesian Optimization:\n",
        "$$\n",
        "    \\min_{x_1, x_2} \\quad \\left(4-2.1x_1^2 + \\frac{x_1^4}{3}\\right)x_1^2 + x_1x_2 + \\left(-4 + 4x_2^2\\right)x_2^2,\n",
        "$$\n",
        "for $x_1 \\in [-3,3]$ and $x_2 \\in [-2,2]$."
      ],
      "metadata": {
        "id": "sake0Ox8GZa_"
      }
    },
    {
      "cell_type": "markdown",
      "source": [
        "**Solution:**"
      ],
      "metadata": {
        "id": "8cNjpUz_ItO6"
      }
    },
    {
      "cell_type": "markdown",
      "source": [
        "I have used a Thomas Huijsken's tutorial on Bayesian Optimization which can be found [here](https://thuijskens.github.io/2016/12/29/bayesian-optimisation/)."
      ],
      "metadata": {
        "id": "qAcZx5NCI9zV"
      }
    },
    {
      "cell_type": "code",
      "source": [
        "import numpy as np\n",
        "import sklearn.gaussian_process as gp\n",
        "\n",
        "from scipy.stats import norm\n",
        "from scipy.optimize import minimize\n",
        "from sklearn.model_selection import cross_val_score\n",
        "from sklearn.svm import SVC\n",
        "from sklearn.datasets import make_classification\n",
        "\n",
        "def expected_improvement(x, gaussian_process, evaluated_loss, greater_is_better=False, n_params=1):\n",
        "    \n",
        "    x_to_predict = x.reshape(-1, n_params)\n",
        "\n",
        "    mu, sigma = gaussian_process.predict(x_to_predict, return_std=True)\n",
        "\n",
        "    if greater_is_better:\n",
        "        loss_optimum = np.max(evaluated_loss)\n",
        "    else:\n",
        "        loss_optimum = np.min(evaluated_loss)\n",
        "\n",
        "    scaling_factor = (-1) ** (not greater_is_better)\n",
        "\n",
        "    # In case sigma equals zero\n",
        "    with np.errstate(divide='ignore'):\n",
        "        Z = scaling_factor * (mu - loss_optimum) / sigma\n",
        "        expected_improvement = scaling_factor * (mu - loss_optimum) * norm.cdf(Z) + sigma * norm.pdf(Z)\n",
        "        expected_improvement[sigma == 0.0] == 0.0\n",
        "\n",
        "    return -1 * expected_improvement\n",
        "\n",
        "def sample_next_hyperparameter(acquisition_func, gaussian_process, evaluated_loss, greater_is_better=False,\n",
        "                               bounds=(0, 10), n_restarts=25):\n",
        "    best_x = None\n",
        "    best_acquisition_value = 1\n",
        "    n_params = bounds.shape[0]\n",
        "\n",
        "    for starting_point in np.random.uniform(bounds[:, 0], bounds[:, 1], size=(n_restarts, n_params)):\n",
        "\n",
        "        res = minimize(fun=acquisition_func,\n",
        "                       x0=starting_point.reshape(1, -1),\n",
        "                       bounds=bounds,\n",
        "                       method='L-BFGS-B',\n",
        "                       args=(gaussian_process, evaluated_loss, greater_is_better, n_params))\n",
        "\n",
        "        if res.fun < best_acquisition_value:\n",
        "            best_acquisition_value = res.fun\n",
        "            best_x = res.x\n",
        "\n",
        "    return best_x\n",
        "     \n",
        "\n",
        "#%% Bayesian Optimization function to process yp and xp.\n",
        "\n",
        "def bayesian_optimisation(n_iters, sample_loss, bounds, x0=None, n_pre_samples=5,\n",
        "                          gp_params=None, random_search=False, alpha=1e-5, epsilon=1e-7):\n",
        "   \n",
        "    x_list = []\n",
        "    y_list = []\n",
        "\n",
        "    n_params = bounds.shape[0]\n",
        "\n",
        "    if x0 is None:\n",
        "        for params in np.random.uniform(bounds[:, 0], bounds[:, 1], (n_pre_samples, bounds.shape[0])):\n",
        "            x_list.append(params)\n",
        "            y_list.append(sample_loss(params))\n",
        "    else:\n",
        "        for params in x0:\n",
        "            x_list.append(params)\n",
        "            y_list.append(sample_loss(params))\n",
        "\n",
        "    xp = np.array(x_list)\n",
        "    yp = np.array(y_list)\n",
        "\n",
        "    # Create the GP\n",
        "    if gp_params is not None:\n",
        "        model = gp.GaussianProcessRegressor(**gp_params)\n",
        "    else:\n",
        "        kernel = gp.kernels.Matern()\n",
        "        model = gp.GaussianProcessRegressor(kernel=kernel,\n",
        "                                            alpha=alpha,\n",
        "                                            n_restarts_optimizer=10,\n",
        "                                            normalize_y=True)\n",
        "\n",
        "    for n in range(n_iters):\n",
        "\n",
        "        model.fit(xp, yp)\n",
        "\n",
        "        # Sample next hyperparameter\n",
        "        if random_search:\n",
        "            x_random = np.random.uniform(bounds[:, 0], bounds[:, 1], size=(random_search, n_params))\n",
        "            ei = -1 * expected_improvement(x_random, model, yp, greater_is_better=True, n_params=n_params)\n",
        "            next_sample = x_random[np.argmax(ei), :]\n",
        "        else:\n",
        "            next_sample = sample_next_hyperparameter(expected_improvement, model, yp, greater_is_better=True, bounds=bounds, n_restarts=100)\n",
        "\n",
        "        # Duplicates will break the GP. In case of a duplicate, we will randomly sample a next query point.\n",
        "        if np.any(np.abs(next_sample - xp) <= epsilon):\n",
        "            next_sample = np.random.uniform(bounds[:, 0], bounds[:, 1], bounds.shape[0])\n",
        "\n",
        "        # Sample loss for new set of parameters\n",
        "        cv_score = sample_loss(next_sample)\n",
        "\n",
        "        # Update lists\n",
        "        x_list.append(next_sample)\n",
        "        y_list.append(cv_score)\n",
        "\n",
        "        # Update xp and yp\n",
        "        xp = np.array(x_list)\n",
        "        yp = np.array(y_list)\n",
        "\n",
        "    return xp, yp\n",
        "\n",
        "# loss/objective function\n",
        "def sample_loss(x): # takes in a vector [x1,x2]\n",
        "    x1=x[0]\n",
        "    x2=x[1]    \n",
        "    return -1*((4 - 2.1*x1**2 + (x1**4)/3)*x1**2 + x1*x2 + (-4 + 4*(x2**2))*x2**2)"
      ],
      "metadata": {
        "id": "5tkwYDPbuvKS"
      },
      "execution_count": 44,
      "outputs": []
    },
    {
      "cell_type": "code",
      "source": [
        "x_1 = np.linspace(-3,3)\n",
        "#print(\"x1=\",x_1)\n",
        "x_2 = np.linspace(-2,2)\n",
        "#print(\"x2=\",x_1)"
      ],
      "metadata": {
        "id": "0jOtvupUceD_"
      },
      "execution_count": 45,
      "outputs": []
    },
    {
      "cell_type": "code",
      "source": [
        "# We need the cartesian combination of these two vectors\n",
        "param_grid = np.array([[x1i, x2i] for x1i in x_1 for x2i in x_2])\n",
        "\n",
        "# compute actual loss\n",
        "real_loss = [sample_loss(params) for params in param_grid]\n",
        "\n",
        "# The maximum is at:\n",
        "print('The true minimum value of ' + str(-np.amax(real_loss)) +' is at '+ str(param_grid[np.array(real_loss).argmax(), :]))"
      ],
      "metadata": {
        "colab": {
          "base_uri": "https://localhost:8080/",
          "height": 0
        },
        "id": "9anrxvZOJuHk",
        "outputId": "8b651718-0946-4bbf-d431-9e5fd04a2006"
      },
      "execution_count": 46,
      "outputs": [
        {
          "output_type": "stream",
          "name": "stdout",
          "text": [
            "The true minimum value of -1.02614400718987 is at [-0.06122449  0.69387755]\n"
          ]
        }
      ]
    },
    {
      "cell_type": "code",
      "source": [
        "import warnings\n",
        "warnings.filterwarnings('ignore') \n",
        "\n",
        "#define bounds\n",
        "bounds = np.array([[-3, 3], [-2, 2]])\n",
        "\n",
        "print('running Bayesian Opt:')\n",
        "# process xp and yp , call bayesian_optimisation defined in above cell\n",
        "xp, yp = bayesian_optimisation(n_iters=99, \n",
        "                               sample_loss=sample_loss, \n",
        "                               bounds=bounds,\n",
        "                               n_pre_samples=3,\n",
        "                               random_search=100000)\n",
        "\n",
        "print('Out of 99 iterations, the minimum value of ' + str(-np.amax(yp)) +' is at ' + str(xp[np.where(yp == np.amax(yp))[0][0]]))"
      ],
      "metadata": {
        "colab": {
          "base_uri": "https://localhost:8080/",
          "height": 0
        },
        "id": "bkylUVQ0JyMi",
        "outputId": "eafcbae6-f1b6-44f7-ae53-2d2e3aa3528c"
      },
      "execution_count": 47,
      "outputs": [
        {
          "output_type": "stream",
          "name": "stdout",
          "text": [
            "running Bayesian Opt:\n",
            "Out of 99 iterations, the minimum value of -1.0313323894025284 is at [-0.09358959  0.70743338]\n"
          ]
        }
      ]
    }
  ]
}