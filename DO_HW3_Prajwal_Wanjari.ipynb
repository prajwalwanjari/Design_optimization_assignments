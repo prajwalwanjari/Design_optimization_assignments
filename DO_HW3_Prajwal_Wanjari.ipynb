{
  "nbformat": 4,
  "nbformat_minor": 0,
  "metadata": {
    "colab": {
      "provenance": [],
      "collapsed_sections": [],
      "include_colab_link": true
    },
    "kernelspec": {
      "name": "python3",
      "display_name": "Python 3"
    },
    "language_info": {
      "name": "python"
    }
  },
  "cells": [
    {
      "cell_type": "markdown",
      "metadata": {
        "id": "view-in-github",
        "colab_type": "text"
      },
      "source": [
        "<a href=\"https://colab.research.google.com/github/prajwalwanjari/Design_optimization_assignments/blob/main/DO_HW3_Prajwal_Wanjari.ipynb\" target=\"_parent\"><img src=\"https://colab.research.google.com/assets/colab-badge.svg\" alt=\"Open In Colab\"/></a>"
      ]
    },
    {
      "cell_type": "markdown",
      "source": [
        "**Design Optimization - HW3**\n",
        "\n",
        "**Prajwal Wanjari**\n",
        "\n",
        "**1222575718**"
      ],
      "metadata": {
        "id": "bAhliyts8Awb"
      }
    },
    {
      "cell_type": "markdown",
      "source": [
        "**Google collab link - https://colab.research.google.com/drive/1QSzeh6cd1ZGihef1RoiVCigkW3RyaP7s?usp=sharing**"
      ],
      "metadata": {
        "id": "vqKiD5XgsKxR"
      }
    },
    {
      "cell_type": "markdown",
      "source": [
        "### **Q.1**\n",
        "\n",
        "Vapor-liquid equilibria data are correlated using two adjustable parameters $A_{12}$ and $A_{21}$ per binary\n",
        "mixture. For low pressures, the equilibrium relation can be formulated as:\n",
        "\n",
        "$$\n",
        "\\begin{aligned}\n",
        "p = & x_1\\exp\\left(A_{12}\\left(\\frac{A_{21}x_2}{A_{12}x_1+A_{21}x_2}\\right)^2\\right)p_{1}^{sat}\\\\\n",
        "& + x_2\\exp\\left(A_{21}\\left(\\frac{A_{12}x_1}{A_{12}x_1+A_{21}x_2}\\right)^2\\right)p_{2}^{sat}.\n",
        "\\end{aligned}\n",
        "$$\n",
        "\n",
        "where 1 and 2 represents water 1,4 dioxane respectively.\n",
        "\n",
        "Here the saturation pressures are given by the Antoine equation\n",
        "\n",
        "$$\n",
        "\\log_{10}(p^{sat}) = a_1 - \\frac{a_2}{T + a_3},\n",
        "$$\n",
        "\n",
        "where $T = 20$($^{\\circ}{\\rm C}$) and $a_{1,2,3}$ for a water - 1,4 dioxane\n",
        "system is given below.\n",
        "\n",
        "|             | $a_1$     | $a_2$      | $a_3$     |\n",
        "|:------------|:--------|:---------|:--------|\n",
        "| Water       | 8.07131 | 1730.63  | 233.426 |\n",
        "| 1,4 dioxane | 7.43155 | 1554.679 | 240.337 |\n",
        "\n",
        "\n",
        "The following table lists the measured data. Recall that in a binary system $x_1 + x_2 = 1$. $x_1 is for water.\n",
        "\n",
        "|$x_1$ | 0.0 | 0.1 | 0.2 | 0.3 | 0.4 | 0.5 | 0.6 | 0.7 | 0.8 | 0.9 | 1.0 |\n",
        "|:-----|:--------|:---------|:--------|:-----|:-----|:-----|:-----|:-----|:-----|:-----|:-----|\n",
        "|$p$| 28.1 | 34.4 | 36.7 | 36.9 | 36.8 | 36.7 | 36.5 | 35.4 | 32.9 | 27.7 | 17.5 |\n",
        "\n",
        "Estimate $A_{12}$ and $A_{21}$ using data from the above table: \n",
        "\n",
        "1. Formulate the least square problem; \n",
        "2. Since the model is nonlinear, the problem does not have an analytical solution. Therefore, solve it using the gradient descent or Newton's method implemented in HW1; \n",
        "3. Compare your optimized model with the data. Does your model fit well with the data?"
      ],
      "metadata": {
        "id": "vSp1W_zv59Q0"
      }
    },
    {
      "cell_type": "markdown",
      "source": [
        "**Solution:** "
      ],
      "metadata": {
        "id": "nowKHNik-EUE"
      }
    },
    {
      "cell_type": "markdown",
      "source": [
        "The following code plots the measured pressure data as a scatter plot."
      ],
      "metadata": {
        "id": "MyVC6s8y-Hzd"
      }
    },
    {
      "cell_type": "code",
      "source": [
        "import matplotlib.pyplot as plt\n",
        "\n",
        "# Initialize measured data storage arrays.\n",
        "x = [x*0.1 for x in range(0,11)]\n",
        "\n",
        "# pressure list\n",
        "p = [28.1, 34.4, 36.7, 36.9, 36.8, 36.7, 36.5, 35.4, 32.9, 27.7, 17.5]\n",
        "\n",
        "# Plot measured data.\n",
        "plt.scatter(x, p, color='red')\n",
        "plt.xlabel('x1')\n",
        "plt.ylabel('Pressure')\n",
        "plt.legend(['Measured Pressure'], loc=\"lower left\")\n",
        "plt.grid()\n",
        "plt.show()"
      ],
      "metadata": {
        "colab": {
          "base_uri": "https://localhost:8080/",
          "height": 280
        },
        "id": "Wp_yTw2wTTEt",
        "outputId": "e24b307d-23c9-459c-a232-9a769742c59a"
      },
      "execution_count": 60,
      "outputs": [
        {
          "output_type": "display_data",
          "data": {
            "text/plain": [
              "<Figure size 432x288 with 1 Axes>"
            ],
            "image/png": "[encoded data removed]"
          },
          "metadata": {
            "needs_background": "light"
          }
        }
      ]
    },
    {
      "cell_type": "markdown",
      "source": [
        "**Formulating the least square problem.**\n",
        "$$\\min_{A_{12}, A_{21}} \\sum_{i=1}^{n} (p(x^{(i)}, A_{12},A_{21})-p^{(i)})^2  \\quad \\forall i=1,2,...11$$\n",
        "\n",
        "such that  $$p(x^{(i)}, A_{12},A_{21})=x^{(i)}_1\\exp\\left(A_{12}\\left(\\frac{A_{21}x^{(i)}_2}{A_{12}x^{(i)}_1+A_{21}x^{(i)}_2}\\right)^2\\right)p_{water}^{sat} + x_2\\exp\\left(A_{21}\\left(\\frac{A_{12}x^{(i)}_1}{A_{12}x^{(i)}_1+A_{21}x^{(i)}_2}\\right)^2\\right)p_{1,4 dioxane}^{sat} $$\n",
        "and $$ x_2 = 1-x_1 $$\n",
        "\n",
        "\n",
        "To simplify, the minimization problem is formulated using a sum of squares method for the loss function. That is, each value calculated by the given model is subtracted from the measured value, squared, and summed, as follows (with $x_2 = 1 - x_1$):\n",
        "\n",
        "$$\n",
        "min_A   \\sum_{i=1}^{N=11} \\begin{pmatrix}p_i - x_{1,i}e^{A_{12}\\begin{pmatrix}\\frac{A_{21}(1 - x_{1,i})}{A_{12}x_{1,i} + A_{21}(1 - x_{1,i})}\\end{pmatrix}^2}p^{sat}_{water} - (1 - x_{1,i})e^{A_{21}\\begin{pmatrix}\\frac{A_{12}x_{1,i}}{A_{12}x_{1,i} + A_{21}(1 - x_{1,i})}\\end{pmatrix}^2}p^{sat}_{1, 4 dioxane}\\end{pmatrix}^2\n",
        "$$"
      ],
      "metadata": {
        "id": "qs8d9lRA-sme"
      }
    },
    {
      "cell_type": "code",
      "source": [
        "import torch as t\n",
        "import numpy as np\n",
        "from math import *\n",
        "import matplotlib.pyplot as plt\n",
        "from random import random\n",
        "\n",
        "# Calculate saturation pressures with given values and Antoine equation.\n",
        "a = [[8.07131, 1730.63, 233.426], [7.43155, 1554.679, 240.337]]\n",
        "T = 20\n",
        "p_sat_water = 10**(a[0][0] - a[0][1]/(T + a[0][2]))\n",
        "p_sat_dioxane = 10**(a[1][0] - a[1][1]/(T + a[1][2]))\n",
        "\n",
        "# Initialize measured data storage arrays.\n",
        "x = [x*0.1 for x in range(0,11)]\n",
        "p = [28.1, 34.4, 36.7, 36.9, 36.8, 36.7, 36.5, 35.4, 32.9, 27.7, 17.5]\n",
        "\n",
        "# Define variable A.\n",
        "A = t.autograd.Variable(t.tensor([random(), random()]), requires_grad=True)\n",
        "\n",
        "# Define loss function.\n",
        "def compute_loss(x, p, A):\n",
        "    f = t.zeros(len(p))\n",
        "    for i in range(len(p)):\n",
        "        f[i] = (p[i] - x[i]*p_sat_water*t.exp(A[0]*(A[1]*(1 - x[i])/(A[0]*x[i] + A[1]*(1 - x[i])))**2)\n",
        "                - (1 - x[i])*p_sat_dioxane*t.exp(A[1]*(A[0]*x[i]/(A[0]*x[i] + A[1]*(1 - x[i])))**2))**2\n",
        "    return t.sum(f)\n",
        "\n",
        "# Define line search algorithm.\n",
        "def line_search(x, p, A, k):\n",
        "    with t.no_grad():\n",
        "        alpha = 0.001\n",
        "        phi = compute_loss(x, p, A) - alpha*k*t.dot(A.grad, A.grad)\n",
        "        #compute untill phi<compute_loss\n",
        "        while phi < compute_loss(x, p, A - alpha*A.grad):\n",
        "            alpha = 0.5*alpha\n",
        "            phi = compute_loss(x, p, A) - alpha * k * t.dot(A.grad, A.grad)\n",
        "        return alpha\n",
        "\n",
        "# Perform gradient descent with line search.\n",
        "for j in range(200):\n",
        "    loss = compute_loss(x, p, A)\n",
        "    loss.backward()\n",
        "\n",
        "    alpha = line_search(x, p, A, 0.8)\n",
        "    # step size; alpha = 0.001\n",
        "\n",
        "    with t.no_grad():\n",
        "        A -= alpha*A.grad\n",
        "        A.grad.zero_()\n",
        "\n",
        "# Print solution and minimum loss.\n",
        "print('The minimization solution of A12 & A21 are ',A.data.numpy())\n",
        "print('The objective function is now ',loss.data.numpy())\n",
        "\n",
        "# Calculate pressure with minimization solution for A.\n",
        "soln = A.data.numpy()\n",
        "p_soln = []\n",
        "for i in range(len(x)):\n",
        "    p_soln.append([])\n",
        "    p_soln[i] = x[i] * p_sat_water * exp(\n",
        "        soln[0] * (soln[1] * (1 - x[i]) / (soln[0] * x[i] + soln[1] * (1 - x[i]))) ** 2) + \\\n",
        "                (1 - x[i]) * p_sat_dioxane * exp(\n",
        "        soln[1] * (soln[0] * x[i] / (soln[0] * x[i] + soln[1] * (1 - x[i]))) ** 2)\n",
        "\n",
        "plt.title('Vapor-Liquid Equilibria - Experimental Vs. OLS Model Fit ')\n",
        "plt.scatter(x, p, color='red')\n",
        "plt.plot(x, p_soln, color='black')\n",
        "plt.xlabel('x1')\n",
        "plt.ylabel('Pressure')\n",
        "plt.legend(['Calculated Pressure', 'Measured Pressure'])\n",
        "plt.grid()\n",
        "plt.show()\n",
        "\n",
        "print('The model fits well with the data:', np.allclose(p_soln, p, rtol=1e-1))"
      ],
      "metadata": {
        "colab": {
          "base_uri": "https://localhost:8080/",
          "height": 347
        },
        "id": "n-bASTGkBLmK",
        "outputId": "558b9954-45ee-4648-ff60-1af74a3d1269"
      },
      "execution_count": 61,
      "outputs": [
        {
          "output_type": "stream",
          "name": "stdout",
          "text": [
            "The minimization solution of A12 & A21 are  [1.9578799 1.6896279]\n",
            "The objective function is now  0.67021513\n"
          ]
        },
        {
          "output_type": "display_data",
          "data": {
            "text/plain": [
              "<Figure size 432x288 with 1 Axes>"
            ],
            "image/png": "[encoded data removed]"
          },
          "metadata": {
            "needs_background": "light"
          }
        },
        {
          "output_type": "stream",
          "name": "stdout",
          "text": [
            "The model fits well with the data: True\n"
          ]
        }
      ]
    },
    {
      "cell_type": "markdown",
      "source": [
        "The minimization solution for $A_{12}$ and $A_{21}$ values were determined to be 1.96 and 1.69, respectively. The plot above shows the measured pressure data (red) and the pressure calculated with this solution (black). \n",
        "\n",
        "Hence, from the inspection we can see that using OLS to evaluate the two constants is a viable method and the model fits quite well when compared to the experimatal data both in shape and magnitude."
      ],
      "metadata": {
        "id": "Z_VZ0k0IBiml"
      }
    },
    {
      "cell_type": "markdown",
      "source": [
        "### **Q2.**"
      ],
      "metadata": {
        "id": "ud1Rd43P-uuZ"
      }
    },
    {
      "cell_type": "markdown",
      "source": [
        "Solve the following problem using Bayesian Optimization:\n",
        "$$\n",
        "    \\min_{x_1, x_2} \\quad \\left(4-2.1x_1^2 + \\frac{x_1^4}{3}\\right)x_1^2 + x_1x_2 + \\left(-4 + 4x_2^2\\right)x_2^2,\n",
        "$$\n",
        "for $x_1 \\in [-3,3]$ and $x_2 \\in [-2,2]$."
      ],
      "metadata": {
        "id": "sake0Ox8GZa_"
      }
    },
    {
      "cell_type": "markdown",
      "source": [
        "**Solution:**"
      ],
      "metadata": {
        "id": "8cNjpUz_ItO6"
      }
    },
    {
      "cell_type": "code",
      "source": [
        "!pip install bayesian-optimization"
      ],
      "metadata": {
        "colab": {
          "base_uri": "https://localhost:8080/"
        },
        "id": "z0Ez8uPa-4eq",
        "outputId": "66af7359-f797-46dc-cd5e-56b8df312a31"
      },
      "execution_count": 62,
      "outputs": [
        {
          "output_type": "stream",
          "name": "stdout",
          "text": [
            "Looking in indexes: https://pypi.org/simple, https://us-python.pkg.dev/colab-wheels/public/simple/\n",
            "Requirement already satisfied: bayesian-optimization in /usr/local/lib/python3.7/dist-packages (1.2.0)\n",
            "Requirement already satisfied: numpy>=1.9.0 in /usr/local/lib/python3.7/dist-packages (from bayesian-optimization) (1.21.6)\n",
            "Requirement already satisfied: scikit-learn>=0.18.0 in /usr/local/lib/python3.7/dist-packages (from bayesian-optimization) (1.0.2)\n",
            "Requirement already satisfied: scipy>=0.14.0 in /usr/local/lib/python3.7/dist-packages (from bayesian-optimization) (1.7.3)\n",
            "Requirement already satisfied: joblib>=0.11 in /usr/local/lib/python3.7/dist-packages (from scikit-learn>=0.18.0->bayesian-optimization) (1.2.0)\n",
            "Requirement already satisfied: threadpoolctl>=2.0.0 in /usr/local/lib/python3.7/dist-packages (from scikit-learn>=0.18.0->bayesian-optimization) (3.1.0)\n"
          ]
        }
      ]
    },
    {
      "cell_type": "code",
      "source": [
        "import numpy as np\n",
        "from bayes_opt import BayesianOptimization"
      ],
      "metadata": {
        "id": "ZewTmBIu_Dd3"
      },
      "execution_count": 63,
      "outputs": []
    },
    {
      "cell_type": "code",
      "source": [
        "def objective(x1,x2):\n",
        "  return -(4*x1**2 - 2.1*x1**4 + (x1**6)/3 + x1*x2 - 4*x2**2 + 4*x2**4)"
      ],
      "metadata": {
        "id": "tu4_1rIZ_H4H"
      },
      "execution_count": 64,
      "outputs": []
    },
    {
      "cell_type": "code",
      "source": [
        "pbounds = {'x1':(-3,3),'x2':(-2,2)}\n",
        "optimizer = BayesianOptimization(\n",
        "    f = objective,\n",
        "    pbounds = pbounds,\n",
        "    random_state = 1,\n",
        ")"
      ],
      "metadata": {
        "id": "O3FmpTGP_LEl"
      },
      "execution_count": 65,
      "outputs": []
    },
    {
      "cell_type": "code",
      "source": [
        "optimizer.maximize(\n",
        "    init_points = 10,\n",
        "    n_iter = 100\n",
        ")"
      ],
      "metadata": {
        "colab": {
          "base_uri": "https://localhost:8080/"
        },
        "id": "6UAbm7Lw_Nj-",
        "outputId": "4a4cfab7-b2b4-4d09-b3c0-db8452338faa"
      },
      "execution_count": 66,
      "outputs": [
        {
          "output_type": "stream",
          "name": "stdout",
          "text": [
            "|   iter    |  target   |    x1     |    x2     |\n",
            "-------------------------------------------------\n",
            "| \u001b[0m 1       \u001b[0m | \u001b[0m 0.265   \u001b[0m | \u001b[0m-0.4979  \u001b[0m | \u001b[0m 0.8813  \u001b[0m |\n",
            "| \u001b[0m 2       \u001b[0m | \u001b[0m-110.1   \u001b[0m | \u001b[0m-2.999   \u001b[0m | \u001b[0m-0.7907  \u001b[0m |\n",
            "| \u001b[0m 3       \u001b[0m | \u001b[0m-26.91   \u001b[0m | \u001b[0m-2.119   \u001b[0m | \u001b[0m-1.631   \u001b[0m |\n",
            "| \u001b[0m 4       \u001b[0m | \u001b[0m-2.856   \u001b[0m | \u001b[0m-1.882   \u001b[0m | \u001b[0m-0.6178  \u001b[0m |\n",
            "| \u001b[0m 5       \u001b[0m | \u001b[0m-1.054   \u001b[0m | \u001b[0m-0.6194  \u001b[0m | \u001b[0m 0.1553  \u001b[0m |\n",
            "| \u001b[95m 6       \u001b[0m | \u001b[95m 0.5211  \u001b[0m | \u001b[95m-0.4848  \u001b[0m | \u001b[95m 0.7409  \u001b[0m |\n",
            "| \u001b[0m 7       \u001b[0m | \u001b[0m-11.28   \u001b[0m | \u001b[0m-1.773   \u001b[0m | \u001b[0m 1.512   \u001b[0m |\n",
            "| \u001b[0m 8       \u001b[0m | \u001b[0m-66.76   \u001b[0m | \u001b[0m-2.836   \u001b[0m | \u001b[0m 0.6819  \u001b[0m |\n",
            "| \u001b[0m 9       \u001b[0m | \u001b[0m-0.5377  \u001b[0m | \u001b[0m-0.4962  \u001b[0m | \u001b[0m 0.2348  \u001b[0m |\n",
            "| \u001b[0m 10      \u001b[0m | \u001b[0m-12.02   \u001b[0m | \u001b[0m-2.158   \u001b[0m | \u001b[0m-1.208   \u001b[0m |\n",
            "| \u001b[0m 11      \u001b[0m | \u001b[0m-6.707   \u001b[0m | \u001b[0m-0.6913  \u001b[0m | \u001b[0m-1.287   \u001b[0m |\n",
            "| \u001b[0m 12      \u001b[0m | \u001b[0m-4.507   \u001b[0m | \u001b[0m 1.223   \u001b[0m | \u001b[0m 1.081   \u001b[0m |\n",
            "| \u001b[0m 13      \u001b[0m | \u001b[0m-0.5198  \u001b[0m | \u001b[0m 1.354   \u001b[0m | \u001b[0m-0.6292  \u001b[0m |\n",
            "| \u001b[0m 14      \u001b[0m | \u001b[0m-65.32   \u001b[0m | \u001b[0m 2.812   \u001b[0m | \u001b[0m 0.1161  \u001b[0m |\n",
            "| \u001b[0m 15      \u001b[0m | \u001b[0m-48.23   \u001b[0m | \u001b[0m 1.016   \u001b[0m | \u001b[0m-2.0     \u001b[0m |\n",
            "| \u001b[0m 16      \u001b[0m | \u001b[0m-49.11   \u001b[0m | \u001b[0m 0.3388  \u001b[0m | \u001b[0m 2.0     \u001b[0m |\n",
            "| \u001b[0m 17      \u001b[0m | \u001b[0m-1.532   \u001b[0m | \u001b[0m 0.7023  \u001b[0m | \u001b[0m 0.103   \u001b[0m |\n",
            "| \u001b[0m 18      \u001b[0m | \u001b[0m-68.92   \u001b[0m | \u001b[0m 2.385   \u001b[0m | \u001b[0m 2.0     \u001b[0m |\n",
            "| \u001b[0m 19      \u001b[0m | \u001b[0m-150.9   \u001b[0m | \u001b[0m 3.0     \u001b[0m | \u001b[0m-2.0     \u001b[0m |\n",
            "| \u001b[0m 20      \u001b[0m | \u001b[0m-150.9   \u001b[0m | \u001b[0m-3.0     \u001b[0m | \u001b[0m 2.0     \u001b[0m |\n",
            "| \u001b[95m 21      \u001b[0m | \u001b[95m 0.626   \u001b[0m | \u001b[95m 0.3658  \u001b[0m | \u001b[95m-0.8456  \u001b[0m |\n",
            "| \u001b[0m 22      \u001b[0m | \u001b[0m-0.0896  \u001b[0m | \u001b[0m-1.509   \u001b[0m | \u001b[0m 0.7057  \u001b[0m |\n",
            "| \u001b[0m 23      \u001b[0m | \u001b[0m-48.22   \u001b[0m | \u001b[0m-1.022   \u001b[0m | \u001b[0m 2.0     \u001b[0m |\n",
            "| \u001b[0m 24      \u001b[0m | \u001b[0m-2.243   \u001b[0m | \u001b[0m 1.573   \u001b[0m | \u001b[0m 0.2764  \u001b[0m |\n",
            "| \u001b[0m 25      \u001b[0m | \u001b[0m-4.215   \u001b[0m | \u001b[0m-1.416   \u001b[0m | \u001b[0m-1.051   \u001b[0m |\n",
            "| \u001b[0m 26      \u001b[0m | \u001b[0m-48.84   \u001b[0m | \u001b[0m-0.2759  \u001b[0m | \u001b[0m-2.0     \u001b[0m |\n",
            "| \u001b[0m 27      \u001b[0m | \u001b[0m 0.1817  \u001b[0m | \u001b[0m-0.374   \u001b[0m | \u001b[0m-0.6042  \u001b[0m |\n",
            "| \u001b[0m 28      \u001b[0m | \u001b[0m-0.276   \u001b[0m | \u001b[0m 0.3921  \u001b[0m | \u001b[0m 0.8941  \u001b[0m |\n",
            "| \u001b[0m 29      \u001b[0m | \u001b[0m-2.63    \u001b[0m | \u001b[0m-1.208   \u001b[0m | \u001b[0m 1.144   \u001b[0m |\n",
            "| \u001b[0m 30      \u001b[0m | \u001b[0m-2.447   \u001b[0m | \u001b[0m-1.332   \u001b[0m | \u001b[0m-0.2503  \u001b[0m |\n",
            "| \u001b[0m 31      \u001b[0m | \u001b[0m-0.774   \u001b[0m | \u001b[0m 0.8767  \u001b[0m | \u001b[0m-0.508   \u001b[0m |\n",
            "| \u001b[0m 32      \u001b[0m | \u001b[0m-1.988   \u001b[0m | \u001b[0m 1.034   \u001b[0m | \u001b[0m 0.5836  \u001b[0m |\n",
            "| \u001b[0m 33      \u001b[0m | \u001b[0m 0.1815  \u001b[0m | \u001b[0m 0.1361  \u001b[0m | \u001b[0m-0.2427  \u001b[0m |\n",
            "| \u001b[0m 34      \u001b[0m | \u001b[0m-1.987   \u001b[0m | \u001b[0m 1.345   \u001b[0m | \u001b[0m-0.1736  \u001b[0m |\n",
            "| \u001b[0m 35      \u001b[0m | \u001b[0m-2.024   \u001b[0m | \u001b[0m 0.9383  \u001b[0m | \u001b[0m-1.093   \u001b[0m |\n",
            "| \u001b[0m 36      \u001b[0m | \u001b[0m 0.5136  \u001b[0m | \u001b[0m 0.1383  \u001b[0m | \u001b[0m 0.4528  \u001b[0m |\n",
            "| \u001b[0m 37      \u001b[0m | \u001b[0m-0.478   \u001b[0m | \u001b[0m-1.839   \u001b[0m | \u001b[0m 0.9853  \u001b[0m |\n",
            "| \u001b[0m 38      \u001b[0m | \u001b[0m-1.97    \u001b[0m | \u001b[0m-1.837   \u001b[0m | \u001b[0m 0.1696  \u001b[0m |\n",
            "| \u001b[0m 39      \u001b[0m | \u001b[0m-0.7324  \u001b[0m | \u001b[0m-0.1254  \u001b[0m | \u001b[0m-1.058   \u001b[0m |\n",
            "| \u001b[0m 40      \u001b[0m | \u001b[0m-2.699   \u001b[0m | \u001b[0m 1.764   \u001b[0m | \u001b[0m 0.8146  \u001b[0m |\n",
            "| \u001b[0m 41      \u001b[0m | \u001b[0m 0.4918  \u001b[0m | \u001b[0m-0.06086 \u001b[0m | \u001b[0m 0.9332  \u001b[0m |\n",
            "| \u001b[0m 42      \u001b[0m | \u001b[0m-1.628   \u001b[0m | \u001b[0m-0.869   \u001b[0m | \u001b[0m-0.7465  \u001b[0m |\n",
            "| \u001b[0m 43      \u001b[0m | \u001b[0m-0.73    \u001b[0m | \u001b[0m-0.9862  \u001b[0m | \u001b[0m 0.5863  \u001b[0m |\n",
            "| \u001b[95m 44      \u001b[0m | \u001b[95m 1.011   \u001b[0m | \u001b[95m 0.02789 \u001b[0m | \u001b[95m-0.6824  \u001b[0m |\n",
            "| \u001b[0m 45      \u001b[0m | \u001b[0m-2.237   \u001b[0m | \u001b[0m 1.43    \u001b[0m | \u001b[0m 0.6894  \u001b[0m |\n",
            "| \u001b[0m 46      \u001b[0m | \u001b[0m-1.75    \u001b[0m | \u001b[0m-1.419   \u001b[0m | \u001b[0m 0.2248  \u001b[0m |\n",
            "| \u001b[0m 47      \u001b[0m | \u001b[0m-1.557   \u001b[0m | \u001b[0m-1.56    \u001b[0m | \u001b[0m 1.114   \u001b[0m |\n",
            "| \u001b[0m 48      \u001b[0m | \u001b[0m-0.5286  \u001b[0m | \u001b[0m-1.868   \u001b[0m | \u001b[0m 0.5935  \u001b[0m |\n",
            "| \u001b[0m 49      \u001b[0m | \u001b[0m-0.2196  \u001b[0m | \u001b[0m-0.2621  \u001b[0m | \u001b[0m-0.1462  \u001b[0m |\n",
            "| \u001b[0m 50      \u001b[0m | \u001b[0m-4.007   \u001b[0m | \u001b[0m-1.796   \u001b[0m | \u001b[0m-0.9969  \u001b[0m |\n",
            "| \u001b[0m 51      \u001b[0m | \u001b[0m-0.4914  \u001b[0m | \u001b[0m 0.5473  \u001b[0m | \u001b[0m 0.5372  \u001b[0m |\n",
            "| \u001b[0m 52      \u001b[0m | \u001b[0m-0.526   \u001b[0m | \u001b[0m 1.042   \u001b[0m | \u001b[0m-0.763   \u001b[0m |\n",
            "| \u001b[0m 53      \u001b[0m | \u001b[0m-1.25    \u001b[0m | \u001b[0m 1.731   \u001b[0m | \u001b[0m-0.3005  \u001b[0m |\n",
            "| \u001b[0m 54      \u001b[0m | \u001b[0m 0.2053  \u001b[0m | \u001b[0m 0.4553  \u001b[0m | \u001b[0m-0.4877  \u001b[0m |\n",
            "| \u001b[0m 55      \u001b[0m | \u001b[0m-0.6785  \u001b[0m | \u001b[0m-0.4609  \u001b[0m | \u001b[0m-0.9229  \u001b[0m |\n",
            "| \u001b[95m 56      \u001b[0m | \u001b[95m 1.012   \u001b[0m | \u001b[95m-0.107   \u001b[0m | \u001b[95m 0.664   \u001b[0m |\n",
            "| \u001b[0m 57      \u001b[0m | \u001b[0m-2.143   \u001b[0m | \u001b[0m-1.514   \u001b[0m | \u001b[0m-0.6249  \u001b[0m |\n",
            "| \u001b[0m 58      \u001b[0m | \u001b[0m-2.442   \u001b[0m | \u001b[0m 0.4995  \u001b[0m | \u001b[0m-1.178   \u001b[0m |\n",
            "| \u001b[0m 59      \u001b[0m | \u001b[0m-0.1472  \u001b[0m | \u001b[0m 0.6909  \u001b[0m | \u001b[0m-0.8758  \u001b[0m |\n",
            "| \u001b[0m 60      \u001b[0m | \u001b[0m-0.3415  \u001b[0m | \u001b[0m 0.2988  \u001b[0m | \u001b[0m 0.07199 \u001b[0m |\n",
            "| \u001b[0m 61      \u001b[0m | \u001b[0m-0.4237  \u001b[0m | \u001b[0m-0.8351  \u001b[0m | \u001b[0m 0.8718  \u001b[0m |\n",
            "| \u001b[0m 62      \u001b[0m | \u001b[0m 0.7544  \u001b[0m | \u001b[0m 0.169   \u001b[0m | \u001b[0m 0.7387  \u001b[0m |\n",
            "| \u001b[0m 63      \u001b[0m | \u001b[0m-2.264   \u001b[0m | \u001b[0m-1.707   \u001b[0m | \u001b[0m-0.2564  \u001b[0m |\n",
            "| \u001b[0m 64      \u001b[0m | \u001b[0m-1.854   \u001b[0m | \u001b[0m 0.8001  \u001b[0m | \u001b[0m 0.8926  \u001b[0m |\n",
            "| \u001b[0m 65      \u001b[0m | \u001b[0m-1.402   \u001b[0m | \u001b[0m-0.7172  \u001b[0m | \u001b[0m-0.3252  \u001b[0m |\n",
            "| \u001b[0m 66      \u001b[0m | \u001b[0m 0.1605  \u001b[0m | \u001b[0m-0.06693 \u001b[0m | \u001b[0m 0.2073  \u001b[0m |\n",
            "| \u001b[0m 67      \u001b[0m | \u001b[0m 0.6709  \u001b[0m | \u001b[0m-0.1571  \u001b[0m | \u001b[0m-0.8132  \u001b[0m |\n",
            "| \u001b[0m 68      \u001b[0m | \u001b[0m 0.4595  \u001b[0m | \u001b[0m 0.1237  \u001b[0m | \u001b[0m-0.9413  \u001b[0m |\n",
            "| \u001b[0m 69      \u001b[0m | \u001b[0m 0.5642  \u001b[0m | \u001b[0m-0.1081  \u001b[0m | \u001b[0m-0.4566  \u001b[0m |\n",
            "| \u001b[0m 70      \u001b[0m | \u001b[0m 0.8451  \u001b[0m | \u001b[0m-0.2524  \u001b[0m | \u001b[0m 0.8183  \u001b[0m |\n",
            "| \u001b[0m 71      \u001b[0m | \u001b[0m-2.781   \u001b[0m | \u001b[0m 1.871   \u001b[0m | \u001b[0m 0.3923  \u001b[0m |\n",
            "| \u001b[0m 72      \u001b[0m | \u001b[0m 0.2056  \u001b[0m | \u001b[0m-1.73    \u001b[0m | \u001b[0m 0.8138  \u001b[0m |\n",
            "| \u001b[0m 73      \u001b[0m | \u001b[0m-0.5986  \u001b[0m | \u001b[0m-1.665   \u001b[0m | \u001b[0m 0.4653  \u001b[0m |\n",
            "| \u001b[0m 74      \u001b[0m | \u001b[0m-0.5527  \u001b[0m | \u001b[0m-1.198   \u001b[0m | \u001b[0m 0.833   \u001b[0m |\n",
            "| \u001b[0m 75      \u001b[0m | \u001b[0m 0.8273  \u001b[0m | \u001b[0m 0.2186  \u001b[0m | \u001b[0m-0.5766  \u001b[0m |\n",
            "| \u001b[0m 76      \u001b[0m | \u001b[0m 0.6037  \u001b[0m | \u001b[0m-0.2482  \u001b[0m | \u001b[0m 0.486   \u001b[0m |\n",
            "| \u001b[0m 77      \u001b[0m | \u001b[0m-0.9963  \u001b[0m | \u001b[0m 1.542   \u001b[0m | \u001b[0m-0.3916  \u001b[0m |\n",
            "| \u001b[0m 78      \u001b[0m | \u001b[0m-0.2843  \u001b[0m | \u001b[0m 1.476   \u001b[0m | \u001b[0m-0.9111  \u001b[0m |\n",
            "| \u001b[0m 79      \u001b[0m | \u001b[0m 0.104   \u001b[0m | \u001b[0m 1.705   \u001b[0m | \u001b[0m-0.69    \u001b[0m |\n",
            "| \u001b[0m 80      \u001b[0m | \u001b[0m-0.01691 \u001b[0m | \u001b[0m 1.542   \u001b[0m | \u001b[0m-0.7155  \u001b[0m |\n",
            "| \u001b[0m 81      \u001b[0m | \u001b[0m-0.6117  \u001b[0m | \u001b[0m 0.5047  \u001b[0m | \u001b[0m-0.2109  \u001b[0m |\n",
            "| \u001b[0m 82      \u001b[0m | \u001b[0m 0.9873  \u001b[0m | \u001b[0m 0.1828  \u001b[0m | \u001b[0m-0.7546  \u001b[0m |\n",
            "| \u001b[0m 83      \u001b[0m | \u001b[0m 0.9485  \u001b[0m | \u001b[0m-0.01756 \u001b[0m | \u001b[0m 0.7916  \u001b[0m |\n",
            "| \u001b[0m 84      \u001b[0m | \u001b[0m 0.7576  \u001b[0m | \u001b[0m-0.04409 \u001b[0m | \u001b[0m 0.4968  \u001b[0m |\n",
            "| \u001b[0m 85      \u001b[0m | \u001b[0m-0.1949  \u001b[0m | \u001b[0m-0.6402  \u001b[0m | \u001b[0m 0.5171  \u001b[0m |\n",
            "| \u001b[0m 86      \u001b[0m | \u001b[0m 0.9042  \u001b[0m | \u001b[0m 0.01754 \u001b[0m | \u001b[0m-0.8155  \u001b[0m |\n",
            "| \u001b[0m 87      \u001b[0m | \u001b[0m 0.6859  \u001b[0m | \u001b[0m 0.3992  \u001b[0m | \u001b[0m-0.6874  \u001b[0m |\n",
            "| \u001b[0m 88      \u001b[0m | \u001b[0m 0.9318  \u001b[0m | \u001b[0m 0.04354 \u001b[0m | \u001b[0m 0.6399  \u001b[0m |\n",
            "| \u001b[0m 89      \u001b[0m | \u001b[0m 0.7985  \u001b[0m | \u001b[0m-0.1349  \u001b[0m | \u001b[0m-0.6279  \u001b[0m |\n",
            "| \u001b[0m 90      \u001b[0m | \u001b[0m 0.8139  \u001b[0m | \u001b[0m-0.301   \u001b[0m | \u001b[0m 0.6395  \u001b[0m |\n",
            "| \u001b[0m 91      \u001b[0m | \u001b[0m 0.8073  \u001b[0m | \u001b[0m 0.06136 \u001b[0m | \u001b[0m-0.5206  \u001b[0m |\n",
            "| \u001b[0m 92      \u001b[0m | \u001b[0m 0.3604  \u001b[0m | \u001b[0m 0.3278  \u001b[0m | \u001b[0m 0.6582  \u001b[0m |\n",
            "| \u001b[0m 93      \u001b[0m | \u001b[0m 0.9952  \u001b[0m | \u001b[0m-0.138   \u001b[0m | \u001b[0m 0.7711  \u001b[0m |\n",
            "| \u001b[0m 94      \u001b[0m | \u001b[0m 1.01    \u001b[0m | \u001b[0m 0.1264  \u001b[0m | \u001b[0m-0.6686  \u001b[0m |\n",
            "| \u001b[0m 95      \u001b[0m | \u001b[0m 0.9827  \u001b[0m | \u001b[0m-0.2003  \u001b[0m | \u001b[0m 0.7002  \u001b[0m |\n",
            "| \u001b[0m 96      \u001b[0m | \u001b[0m 0.001931\u001b[0m | \u001b[0m-0.02243 \u001b[0m | \u001b[0m-0.03435 \u001b[0m |\n",
            "| \u001b[0m 97      \u001b[0m | \u001b[0m 1.009   \u001b[0m | \u001b[0m 0.09587 \u001b[0m | \u001b[0m-0.7634  \u001b[0m |\n",
            "| \u001b[0m 98      \u001b[0m | \u001b[0m 0.5333  \u001b[0m | \u001b[0m 0.1183  \u001b[0m | \u001b[0m 0.8815  \u001b[0m |\n",
            "| \u001b[95m 99      \u001b[0m | \u001b[95m 1.029   \u001b[0m | \u001b[95m-0.06794 \u001b[0m | \u001b[95m 0.7055  \u001b[0m |\n",
            "| \u001b[0m 100     \u001b[0m | \u001b[0m 0.9209  \u001b[0m | \u001b[0m 0.256   \u001b[0m | \u001b[0m-0.6897  \u001b[0m |\n",
            "| \u001b[0m 101     \u001b[0m | \u001b[0m 0.989   \u001b[0m | \u001b[0m-0.009742\u001b[0m | \u001b[0m-0.7279  \u001b[0m |\n",
            "| \u001b[0m 102     \u001b[0m | \u001b[0m 1.004   \u001b[0m | \u001b[0m-0.006234\u001b[0m | \u001b[0m 0.7094  \u001b[0m |\n",
            "| \u001b[95m 103     \u001b[0m | \u001b[95m 1.032   \u001b[0m | \u001b[95m 0.08495 \u001b[0m | \u001b[95m-0.7134  \u001b[0m |\n",
            "| \u001b[0m 104     \u001b[0m | \u001b[0m 0.9349  \u001b[0m | \u001b[0m-0.1539  \u001b[0m | \u001b[0m 0.61    \u001b[0m |\n",
            "| \u001b[0m 105     \u001b[0m | \u001b[0m 1.03    \u001b[0m | \u001b[0m-0.105   \u001b[0m | \u001b[0m 0.7231  \u001b[0m |\n",
            "| \u001b[0m 106     \u001b[0m | \u001b[0m 1.003   \u001b[0m | \u001b[0m-0.05231 \u001b[0m | \u001b[0m 0.6551  \u001b[0m |\n",
            "| \u001b[0m 107     \u001b[0m | \u001b[0m 0.9397  \u001b[0m | \u001b[0m 0.003882\u001b[0m | \u001b[0m-0.6123  \u001b[0m |\n",
            "| \u001b[0m 108     \u001b[0m | \u001b[0m 1.022   \u001b[0m | \u001b[0m 0.1393  \u001b[0m | \u001b[0m-0.7108  \u001b[0m |\n",
            "| \u001b[0m 109     \u001b[0m | \u001b[0m 1.03    \u001b[0m | \u001b[0m 0.0689  \u001b[0m | \u001b[0m-0.7117  \u001b[0m |\n",
            "| \u001b[0m 110     \u001b[0m | \u001b[0m 1.008   \u001b[0m | \u001b[0m 0.08324 \u001b[0m | \u001b[0m-0.6559  \u001b[0m |\n",
            "=================================================\n"
          ]
        }
      ]
    },
    {
      "cell_type": "code",
      "source": [
        "a = optimizer.max\n",
        "print(f\"The minima of the function is: {-a['target']} at {a['params']}\")"
      ],
      "metadata": {
        "colab": {
          "base_uri": "https://localhost:8080/"
        },
        "id": "qxV8c2zZ_RCR",
        "outputId": "7a996141-9324-4397-d454-48de3cd65cd4"
      },
      "execution_count": 67,
      "outputs": [
        {
          "output_type": "stream",
          "name": "stdout",
          "text": [
            "The minima of the function is: -1.0315263295837684 at {'x1': 0.084951558381297, 'x2': -0.7134360380710894}\n"
          ]
        }
      ]
    },
    {
      "cell_type": "markdown",
      "source": [
        "**Another method:** I have used a Thomas Huijsken's tutorial on Bayesian Optimization which can be found [here](https://thuijskens.github.io/2016/12/29/bayesian-optimisation/)."
      ],
      "metadata": {
        "id": "qAcZx5NCI9zV"
      }
    },
    {
      "cell_type": "code",
      "source": [
        "import numpy as np\n",
        "import sklearn.gaussian_process as gp\n",
        "\n",
        "from scipy.stats import norm\n",
        "from scipy.optimize import minimize\n",
        "from sklearn.model_selection import cross_val_score\n",
        "from sklearn.svm import SVC\n",
        "from sklearn.datasets import make_classification\n",
        "\n",
        "def expected_improvement(x, gaussian_process, evaluated_loss, greater_is_better=False, n_params=1):\n",
        "    \n",
        "    x_to_predict = x.reshape(-1, n_params)\n",
        "\n",
        "    mu, sigma = gaussian_process.predict(x_to_predict, return_std=True)\n",
        "\n",
        "    if greater_is_better:\n",
        "        loss_optimum = np.max(evaluated_loss)\n",
        "    else:\n",
        "        loss_optimum = np.min(evaluated_loss)\n",
        "\n",
        "    scaling_factor = (-1) ** (not greater_is_better)\n",
        "\n",
        "    # In case sigma equals zero\n",
        "    with np.errstate(divide='ignore'):\n",
        "        Z = scaling_factor * (mu - loss_optimum) / sigma\n",
        "        expected_improvement = scaling_factor * (mu - loss_optimum) * norm.cdf(Z) + sigma * norm.pdf(Z)\n",
        "        expected_improvement[sigma == 0.0] == 0.0\n",
        "\n",
        "    return -1 * expected_improvement\n",
        "\n",
        "def sample_next_hyperparameter(acquisition_func, gaussian_process, evaluated_loss, greater_is_better=False,\n",
        "                               bounds=(0, 10), n_restarts=25):\n",
        "    best_x = None\n",
        "    best_acquisition_value = 1\n",
        "    n_params = bounds.shape[0]\n",
        "\n",
        "    for starting_point in np.random.uniform(bounds[:, 0], bounds[:, 1], size=(n_restarts, n_params)):\n",
        "\n",
        "        res = minimize(fun=acquisition_func,\n",
        "                       x0=starting_point.reshape(1, -1),\n",
        "                       bounds=bounds,\n",
        "                       method='L-BFGS-B',\n",
        "                       args=(gaussian_process, evaluated_loss, greater_is_better, n_params))\n",
        "\n",
        "        if res.fun < best_acquisition_value:\n",
        "            best_acquisition_value = res.fun\n",
        "            best_x = res.x\n",
        "\n",
        "    return best_x\n",
        "     \n",
        "\n",
        "#%% Bayesian Optimization function to process yp and xp.\n",
        "\n",
        "def bayesian_optimisation(n_iters, sample_loss, bounds, x0=None, n_pre_samples=5,\n",
        "                          gp_params=None, random_search=False, alpha=1e-5, epsilon=1e-7):\n",
        "   \n",
        "    x_list = []\n",
        "    y_list = []\n",
        "\n",
        "    n_params = bounds.shape[0]\n",
        "\n",
        "    if x0 is None:\n",
        "        for params in np.random.uniform(bounds[:, 0], bounds[:, 1], (n_pre_samples, bounds.shape[0])):\n",
        "            x_list.append(params)\n",
        "            y_list.append(sample_loss(params))\n",
        "    else:\n",
        "        for params in x0:\n",
        "            x_list.append(params)\n",
        "            y_list.append(sample_loss(params))\n",
        "\n",
        "    xp = np.array(x_list)\n",
        "    yp = np.array(y_list)\n",
        "\n",
        "    # Create the GP\n",
        "    if gp_params is not None:\n",
        "        model = gp.GaussianProcessRegressor(**gp_params)\n",
        "    else:\n",
        "        kernel = gp.kernels.Matern()\n",
        "        model = gp.GaussianProcessRegressor(kernel=kernel,\n",
        "                                            alpha=alpha,\n",
        "                                            n_restarts_optimizer=10,\n",
        "                                            normalize_y=True)\n",
        "\n",
        "    for n in range(n_iters):\n",
        "\n",
        "        model.fit(xp, yp)\n",
        "\n",
        "        # Sample next hyperparameter\n",
        "        if random_search:\n",
        "            x_random = np.random.uniform(bounds[:, 0], bounds[:, 1], size=(random_search, n_params))\n",
        "            ei = -1 * expected_improvement(x_random, model, yp, greater_is_better=True, n_params=n_params)\n",
        "            next_sample = x_random[np.argmax(ei), :]\n",
        "        else:\n",
        "            next_sample = sample_next_hyperparameter(expected_improvement, model, yp, greater_is_better=True, bounds=bounds, n_restarts=100)\n",
        "\n",
        "        # Duplicates will break the GP. In case of a duplicate, we will randomly sample a next query point.\n",
        "        if np.any(np.abs(next_sample - xp) <= epsilon):\n",
        "            next_sample = np.random.uniform(bounds[:, 0], bounds[:, 1], bounds.shape[0])\n",
        "\n",
        "        # Sample loss for new set of parameters\n",
        "        cv_score = sample_loss(next_sample)\n",
        "\n",
        "        # Update lists\n",
        "        x_list.append(next_sample)\n",
        "        y_list.append(cv_score)\n",
        "\n",
        "        # Update xp and yp\n",
        "        xp = np.array(x_list)\n",
        "        yp = np.array(y_list)\n",
        "\n",
        "    return xp, yp\n",
        "\n",
        "# loss/objective function\n",
        "def sample_loss(x): # takes in a vector [x1,x2]\n",
        "    x1=x[0]\n",
        "    x2=x[1]    \n",
        "    return -1*((4 - 2.1*x1**2 + (x1**4)/3)*x1**2 + x1*x2 + (-4 + 4*(x2**2))*x2**2)"
      ],
      "metadata": {
        "id": "5tkwYDPbuvKS"
      },
      "execution_count": 69,
      "outputs": []
    },
    {
      "cell_type": "code",
      "source": [
        "x_1 = np.linspace(-3,3)\n",
        "#print(\"x1=\",x_1)\n",
        "x_2 = np.linspace(-2,2)\n",
        "#print(\"x2=\",x_1)"
      ],
      "metadata": {
        "id": "0jOtvupUceD_"
      },
      "execution_count": 70,
      "outputs": []
    },
    {
      "cell_type": "code",
      "source": [
        "# We need the cartesian combination of these two vectors\n",
        "param_grid = np.array([[x1i, x2i] for x1i in x_1 for x2i in x_2])\n",
        "\n",
        "# compute actual loss\n",
        "real_loss = [sample_loss(params) for params in param_grid]\n",
        "\n",
        "# The maximum is at:\n",
        "print('The true minimum value of ' + str(-np.amax(real_loss)) +' is at '+ str(param_grid[np.array(real_loss).argmax(), :]))"
      ],
      "metadata": {
        "colab": {
          "base_uri": "https://localhost:8080/"
        },
        "id": "9anrxvZOJuHk",
        "outputId": "f94a8b1d-397c-4efa-ff38-eea147f1179b"
      },
      "execution_count": 71,
      "outputs": [
        {
          "output_type": "stream",
          "name": "stdout",
          "text": [
            "The true minimum value of -1.02614400718987 is at [-0.06122449  0.69387755]\n"
          ]
        }
      ]
    },
    {
      "cell_type": "code",
      "source": [
        "import warnings\n",
        "warnings.filterwarnings('ignore') \n",
        "\n",
        "#define bounds\n",
        "bounds = np.array([[-3, 3], [-2, 2]])\n",
        "\n",
        "print('running Bayesian Opt:')\n",
        "# process xp and yp , call bayesian_optimisation defined in above cell\n",
        "xp, yp = bayesian_optimisation(n_iters=100, \n",
        "                               sample_loss=sample_loss, \n",
        "                               bounds=bounds,\n",
        "                               n_pre_samples=3,\n",
        "                               random_search=100000)\n",
        "\n",
        "print('Out of 100 iterations, the minimum value of ' + str(-np.amax(yp)) +' is at ' + str(xp[np.where(yp == np.amax(yp))[0][0]]))"
      ],
      "metadata": {
        "colab": {
          "base_uri": "https://localhost:8080/"
        },
        "id": "bkylUVQ0JyMi",
        "outputId": "199790c3-5ef0-4698-eeab-d322ae2193af"
      },
      "execution_count": 72,
      "outputs": [
        {
          "output_type": "stream",
          "name": "stdout",
          "text": [
            "running Bayesian Opt:\n",
            "Out of 100 iterations, the minimum value of -1.0304091439787317 is at [-0.09349422  0.7008426 ]\n"
          ]
        }
      ]
    }
  ]
}